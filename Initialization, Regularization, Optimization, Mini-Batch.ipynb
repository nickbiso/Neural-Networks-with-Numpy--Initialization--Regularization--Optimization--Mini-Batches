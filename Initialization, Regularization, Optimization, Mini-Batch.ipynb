{
 "cells": [
  {
   "cell_type": "markdown",
   "metadata": {},
   "source": [
    "# Neural Networks with Numpy: Initialization, Regularization, Optimization Methods and Minibatch"
   ]
  },
  {
   "cell_type": "markdown",
   "metadata": {},
   "source": [
    "The goal of this exercise is to show different initialization methods like he, xavier; regularization methods such as l2 regularization and drop out; optimization methods such as gradient descent, momentum, rmsprop and adam together with minibatch. This exercise will be very simple. Using MNIST, I will be predicting weather the image contains the number 1 or not.   "
   ]
  },
  {
   "cell_type": "code",
   "execution_count": 1,
   "metadata": {
    "collapsed": true
   },
   "outputs": [],
   "source": [
    "import numpy as np\n",
    "import pandas as pd\n",
    "import matplotlib.pyplot as plt\n",
    "%matplotlib inline\n",
    "import math\n",
    "import random"
   ]
  },
  {
   "cell_type": "code",
   "execution_count": 2,
   "metadata": {
    "collapsed": true
   },
   "outputs": [],
   "source": [
    "MNIST = pd.read_csv('G:\\\\MNIST\\\\MNIST_train.csv')"
   ]
  },
  {
   "cell_type": "code",
   "execution_count": 3,
   "metadata": {
    "scrolled": true
   },
   "outputs": [
    {
     "data": {
      "text/plain": [
       "(42000, 785)"
      ]
     },
     "execution_count": 3,
     "metadata": {},
     "output_type": "execute_result"
    }
   ],
   "source": [
    "MNIST.shape"
   ]
  },
  {
   "cell_type": "markdown",
   "metadata": {},
   "source": [
    "#### Right now we can see that there are 10 classes"
   ]
  },
  {
   "cell_type": "code",
   "execution_count": 4,
   "metadata": {},
   "outputs": [
    {
     "data": {
      "text/plain": [
       "1    4684\n",
       "7    4401\n",
       "3    4351\n",
       "9    4188\n",
       "2    4177\n",
       "6    4137\n",
       "0    4132\n",
       "4    4072\n",
       "8    4063\n",
       "5    3795\n",
       "Name: label, dtype: int64"
      ]
     },
     "execution_count": 4,
     "metadata": {},
     "output_type": "execute_result"
    }
   ],
   "source": [
    "MNIST.label.value_counts()"
   ]
  },
  {
   "cell_type": "markdown",
   "metadata": {},
   "source": [
    "#### I will convert all the digits beside the number one into the number zero."
   ]
  },
  {
   "cell_type": "code",
   "execution_count": 5,
   "metadata": {
    "collapsed": true
   },
   "outputs": [],
   "source": [
    "def convert_to_zero(data):\n",
    "    if data['label'] != 1:\n",
    "        label = 0\n",
    "    else:\n",
    "        label = 1\n",
    "    return label"
   ]
  },
  {
   "cell_type": "code",
   "execution_count": 6,
   "metadata": {
    "collapsed": true
   },
   "outputs": [],
   "source": [
    "MNIST['label'] = MNIST.apply(convert_to_zero,axis=1)"
   ]
  },
  {
   "cell_type": "code",
   "execution_count": 7,
   "metadata": {
    "collapsed": true
   },
   "outputs": [],
   "source": [
    "def ones_only(data):\n",
    "    if data['label'] == 1:\n",
    "        label1 = 1\n",
    "    else:\n",
    "        label1 = np.random.uniform()\n",
    "    return label1"
   ]
  },
  {
   "cell_type": "code",
   "execution_count": 8,
   "metadata": {
    "collapsed": true
   },
   "outputs": [],
   "source": [
    "MNIST['label1'] = MNIST.apply(ones_only,axis=1)"
   ]
  },
  {
   "cell_type": "code",
   "execution_count": 9,
   "metadata": {
    "collapsed": true
   },
   "outputs": [],
   "source": [
    "MNIST = MNIST.sort_values(by='label1',ascending=False)"
   ]
  },
  {
   "cell_type": "code",
   "execution_count": 10,
   "metadata": {
    "collapsed": true
   },
   "outputs": [],
   "source": [
    "MNIST = MNIST[:9368]"
   ]
  },
  {
   "cell_type": "code",
   "execution_count": 11,
   "metadata": {},
   "outputs": [],
   "source": [
    "MNIST = MNIST.drop(['label1'],axis=1)"
   ]
  },
  {
   "cell_type": "markdown",
   "metadata": {},
   "source": [
    "#### Now we only have the classes one and zero"
   ]
  },
  {
   "cell_type": "code",
   "execution_count": 12,
   "metadata": {},
   "outputs": [
    {
     "data": {
      "text/plain": [
       "1    4684\n",
       "0    4684\n",
       "Name: label, dtype: int64"
      ]
     },
     "execution_count": 12,
     "metadata": {},
     "output_type": "execute_result"
    }
   ],
   "source": [
    "MNIST.label.value_counts()"
   ]
  },
  {
   "cell_type": "code",
   "execution_count": 13,
   "metadata": {},
   "outputs": [
    {
     "data": {
      "text/plain": [
       "(9368, 785)"
      ]
     },
     "execution_count": 13,
     "metadata": {},
     "output_type": "execute_result"
    }
   ],
   "source": [
    "MNIST.shape"
   ]
  },
  {
   "cell_type": "markdown",
   "metadata": {},
   "source": [
    "#### I will now divide the data into train and test sets. I will not make a dev set since this is not the focus of this exercise"
   ]
  },
  {
   "cell_type": "code",
   "execution_count": 14,
   "metadata": {
    "collapsed": true
   },
   "outputs": [],
   "source": [
    "MNIST['permutation'] = np.random.permutation(9368)"
   ]
  },
  {
   "cell_type": "code",
   "execution_count": 15,
   "metadata": {
    "scrolled": false
   },
   "outputs": [
    {
     "data": {
      "text/plain": [
       "1    471\n",
       "0    465\n",
       "Name: label, dtype: int64"
      ]
     },
     "execution_count": 15,
     "metadata": {},
     "output_type": "execute_result"
    }
   ],
   "source": [
    "MNIST[MNIST.permutation<936].label.value_counts()"
   ]
  },
  {
   "cell_type": "code",
   "execution_count": 16,
   "metadata": {
    "collapsed": true
   },
   "outputs": [],
   "source": [
    "test = MNIST[MNIST.permutation<936]"
   ]
  },
  {
   "cell_type": "code",
   "execution_count": 17,
   "metadata": {
    "collapsed": true
   },
   "outputs": [],
   "source": [
    "train = MNIST[MNIST.permutation>936]"
   ]
  },
  {
   "cell_type": "code",
   "execution_count": 18,
   "metadata": {},
   "outputs": [],
   "source": [
    "train_x = train.drop('label', 1)\n",
    "train_x = train_x.drop('permutation', 1)\n",
    "train_x = train_x/255\n",
    "train_x = train_x.T\n",
    "\n",
    "train_y = train['label']\n",
    "train_y = train_y.values.reshape((1,train_y.shape[0]))\n",
    "\n",
    "test_x = test.drop('label', 1)\n",
    "test_x = test_x.drop('permutation', 1)\n",
    "test_x = test_x/255\n",
    "test_x = test_x.T\n",
    "test_y = test['label']\n",
    "test_y = test_y.values.reshape((1,test_y.shape[0]))\n"
   ]
  },
  {
   "cell_type": "markdown",
   "metadata": {},
   "source": [
    "## Data"
   ]
  },
  {
   "cell_type": "code",
   "execution_count": 19,
   "metadata": {
    "scrolled": true
   },
   "outputs": [
    {
     "data": {
      "text/html": [
       "<div>\n",
       "<style>\n",
       "    .dataframe thead tr:only-child th {\n",
       "        text-align: right;\n",
       "    }\n",
       "\n",
       "    .dataframe thead th {\n",
       "        text-align: left;\n",
       "    }\n",
       "\n",
       "    .dataframe tbody tr th {\n",
       "        vertical-align: top;\n",
       "    }\n",
       "</style>\n",
       "<table border=\"1\" class=\"dataframe\">\n",
       "  <thead>\n",
       "    <tr style=\"text-align: right;\">\n",
       "      <th></th>\n",
       "      <th>0</th>\n",
       "      <th>19215</th>\n",
       "      <th>19083</th>\n",
       "      <th>19094</th>\n",
       "      <th>19099</th>\n",
       "      <th>19106</th>\n",
       "      <th>3735</th>\n",
       "      <th>19117</th>\n",
       "      <th>19128</th>\n",
       "      <th>19133</th>\n",
       "      <th>...</th>\n",
       "      <th>41845</th>\n",
       "      <th>19957</th>\n",
       "      <th>4852</th>\n",
       "      <th>30128</th>\n",
       "      <th>38171</th>\n",
       "      <th>21353</th>\n",
       "      <th>1512</th>\n",
       "      <th>5495</th>\n",
       "      <th>25700</th>\n",
       "      <th>13190</th>\n",
       "    </tr>\n",
       "  </thead>\n",
       "  <tbody>\n",
       "    <tr>\n",
       "      <th>pixel0</th>\n",
       "      <td>0.0</td>\n",
       "      <td>0.0</td>\n",
       "      <td>0.0</td>\n",
       "      <td>0.0</td>\n",
       "      <td>0.0</td>\n",
       "      <td>0.0</td>\n",
       "      <td>0.0</td>\n",
       "      <td>0.0</td>\n",
       "      <td>0.0</td>\n",
       "      <td>0.0</td>\n",
       "      <td>...</td>\n",
       "      <td>0.0</td>\n",
       "      <td>0.0</td>\n",
       "      <td>0.0</td>\n",
       "      <td>0.0</td>\n",
       "      <td>0.0</td>\n",
       "      <td>0.0</td>\n",
       "      <td>0.0</td>\n",
       "      <td>0.0</td>\n",
       "      <td>0.0</td>\n",
       "      <td>0.0</td>\n",
       "    </tr>\n",
       "    <tr>\n",
       "      <th>pixel1</th>\n",
       "      <td>0.0</td>\n",
       "      <td>0.0</td>\n",
       "      <td>0.0</td>\n",
       "      <td>0.0</td>\n",
       "      <td>0.0</td>\n",
       "      <td>0.0</td>\n",
       "      <td>0.0</td>\n",
       "      <td>0.0</td>\n",
       "      <td>0.0</td>\n",
       "      <td>0.0</td>\n",
       "      <td>...</td>\n",
       "      <td>0.0</td>\n",
       "      <td>0.0</td>\n",
       "      <td>0.0</td>\n",
       "      <td>0.0</td>\n",
       "      <td>0.0</td>\n",
       "      <td>0.0</td>\n",
       "      <td>0.0</td>\n",
       "      <td>0.0</td>\n",
       "      <td>0.0</td>\n",
       "      <td>0.0</td>\n",
       "    </tr>\n",
       "    <tr>\n",
       "      <th>pixel2</th>\n",
       "      <td>0.0</td>\n",
       "      <td>0.0</td>\n",
       "      <td>0.0</td>\n",
       "      <td>0.0</td>\n",
       "      <td>0.0</td>\n",
       "      <td>0.0</td>\n",
       "      <td>0.0</td>\n",
       "      <td>0.0</td>\n",
       "      <td>0.0</td>\n",
       "      <td>0.0</td>\n",
       "      <td>...</td>\n",
       "      <td>0.0</td>\n",
       "      <td>0.0</td>\n",
       "      <td>0.0</td>\n",
       "      <td>0.0</td>\n",
       "      <td>0.0</td>\n",
       "      <td>0.0</td>\n",
       "      <td>0.0</td>\n",
       "      <td>0.0</td>\n",
       "      <td>0.0</td>\n",
       "      <td>0.0</td>\n",
       "    </tr>\n",
       "    <tr>\n",
       "      <th>pixel3</th>\n",
       "      <td>0.0</td>\n",
       "      <td>0.0</td>\n",
       "      <td>0.0</td>\n",
       "      <td>0.0</td>\n",
       "      <td>0.0</td>\n",
       "      <td>0.0</td>\n",
       "      <td>0.0</td>\n",
       "      <td>0.0</td>\n",
       "      <td>0.0</td>\n",
       "      <td>0.0</td>\n",
       "      <td>...</td>\n",
       "      <td>0.0</td>\n",
       "      <td>0.0</td>\n",
       "      <td>0.0</td>\n",
       "      <td>0.0</td>\n",
       "      <td>0.0</td>\n",
       "      <td>0.0</td>\n",
       "      <td>0.0</td>\n",
       "      <td>0.0</td>\n",
       "      <td>0.0</td>\n",
       "      <td>0.0</td>\n",
       "    </tr>\n",
       "    <tr>\n",
       "      <th>pixel4</th>\n",
       "      <td>0.0</td>\n",
       "      <td>0.0</td>\n",
       "      <td>0.0</td>\n",
       "      <td>0.0</td>\n",
       "      <td>0.0</td>\n",
       "      <td>0.0</td>\n",
       "      <td>0.0</td>\n",
       "      <td>0.0</td>\n",
       "      <td>0.0</td>\n",
       "      <td>0.0</td>\n",
       "      <td>...</td>\n",
       "      <td>0.0</td>\n",
       "      <td>0.0</td>\n",
       "      <td>0.0</td>\n",
       "      <td>0.0</td>\n",
       "      <td>0.0</td>\n",
       "      <td>0.0</td>\n",
       "      <td>0.0</td>\n",
       "      <td>0.0</td>\n",
       "      <td>0.0</td>\n",
       "      <td>0.0</td>\n",
       "    </tr>\n",
       "  </tbody>\n",
       "</table>\n",
       "<p>5 rows × 8431 columns</p>\n",
       "</div>"
      ],
      "text/plain": [
       "        0      19215  19083  19094  19099  19106  3735   19117  19128  19133  \\\n",
       "pixel0    0.0    0.0    0.0    0.0    0.0    0.0    0.0    0.0    0.0    0.0   \n",
       "pixel1    0.0    0.0    0.0    0.0    0.0    0.0    0.0    0.0    0.0    0.0   \n",
       "pixel2    0.0    0.0    0.0    0.0    0.0    0.0    0.0    0.0    0.0    0.0   \n",
       "pixel3    0.0    0.0    0.0    0.0    0.0    0.0    0.0    0.0    0.0    0.0   \n",
       "pixel4    0.0    0.0    0.0    0.0    0.0    0.0    0.0    0.0    0.0    0.0   \n",
       "\n",
       "        ...    41845  19957  4852   30128  38171  21353  1512   5495   25700  \\\n",
       "pixel0  ...      0.0    0.0    0.0    0.0    0.0    0.0    0.0    0.0    0.0   \n",
       "pixel1  ...      0.0    0.0    0.0    0.0    0.0    0.0    0.0    0.0    0.0   \n",
       "pixel2  ...      0.0    0.0    0.0    0.0    0.0    0.0    0.0    0.0    0.0   \n",
       "pixel3  ...      0.0    0.0    0.0    0.0    0.0    0.0    0.0    0.0    0.0   \n",
       "pixel4  ...      0.0    0.0    0.0    0.0    0.0    0.0    0.0    0.0    0.0   \n",
       "\n",
       "        13190  \n",
       "pixel0    0.0  \n",
       "pixel1    0.0  \n",
       "pixel2    0.0  \n",
       "pixel3    0.0  \n",
       "pixel4    0.0  \n",
       "\n",
       "[5 rows x 8431 columns]"
      ]
     },
     "execution_count": 19,
     "metadata": {},
     "output_type": "execute_result"
    }
   ],
   "source": [
    "train_x.head()"
   ]
  },
  {
   "cell_type": "code",
   "execution_count": 20,
   "metadata": {},
   "outputs": [
    {
     "data": {
      "text/plain": [
       "array([[1, 1, 1, ..., 0, 0, 0]], dtype=int64)"
      ]
     },
     "execution_count": 20,
     "metadata": {},
     "output_type": "execute_result"
    }
   ],
   "source": [
    "train_y"
   ]
  },
  {
   "cell_type": "markdown",
   "metadata": {},
   "source": [
    "#### Sample of the Number 1"
   ]
  },
  {
   "cell_type": "code",
   "execution_count": 21,
   "metadata": {},
   "outputs": [
    {
     "data": {
      "text/plain": [
       "<matplotlib.colorbar.Colorbar at 0x2158f4a9208>"
      ]
     },
     "execution_count": 21,
     "metadata": {},
     "output_type": "execute_result"
    },
    {
     "data": {
      "image/png": "[encoded data removed]",
      "text/plain": [
       "<matplotlib.figure.Figure at 0x2158e44c2e8>"
      ]
     },
     "metadata": {},
     "output_type": "display_data"
    }
   ],
   "source": [
    "grid_data = train_x.iloc[:,0].as_matrix().reshape(28,28)\n",
    "plt.imshow(grid_data, interpolation = \"none\", cmap = \"Greys\")\n",
    "plt.colorbar()"
   ]
  },
  {
   "cell_type": "markdown",
   "metadata": {},
   "source": [
    "#### Sample of Not the Number 1"
   ]
  },
  {
   "cell_type": "code",
   "execution_count": 22,
   "metadata": {},
   "outputs": [
    {
     "data": {
      "text/plain": [
       "<matplotlib.colorbar.Colorbar at 0x2158f58ebe0>"
      ]
     },
     "execution_count": 22,
     "metadata": {},
     "output_type": "execute_result"
    },
    {
     "data": {
      "image/png": "[encoded data removed]",
      "text/plain": [
       "<matplotlib.figure.Figure at 0x2158e44cbe0>"
      ]
     },
     "metadata": {},
     "output_type": "display_data"
    }
   ],
   "source": [
    "grid_data = train_x.iloc[:,5000].as_matrix().reshape(28,28)\n",
    "plt.imshow(grid_data, interpolation = \"none\", cmap = \"Greys\")\n",
    "plt.colorbar()"
   ]
  },
  {
   "cell_type": "markdown",
   "metadata": {},
   "source": [
    "## Model"
   ]
  },
  {
   "cell_type": "code",
   "execution_count": 23,
   "metadata": {},
   "outputs": [],
   "source": [
    "def initialize_parameters(layer_dims,initialization,keep_prob):\n",
    "    \n",
    "    parameters = {}\n",
    "    L = len(layer_dims)           \n",
    "\n",
    "    for l in range(1, L):\n",
    "        \n",
    "        if initialization == \"random\":\n",
    "            parameters['W' + str(l)] = np.random.randn(layer_dims[l],layer_dims[l-1])*0.01\n",
    "            parameters['b' + str(l)] = np.zeros((layer_dims[l],1))\n",
    "            \n",
    "        elif initialization == \"he\":\n",
    "            parameters['W' + str(l)] = np.random.randn(layer_dims[l],layer_dims[l-1])*np.sqrt(2/layer_dims[l-1])*.01\n",
    "            parameters['b' + str(l)] = np.zeros((layer_dims[l],1))\n",
    "            \n",
    "        elif initialization == \"xavier\":\n",
    "            parameters['W' + str(l)] = np.random.randn(layer_dims[l],layer_dims[l-1])*np.sqrt(1/layer_dims[l-1])*.01\n",
    "            parameters['b' + str(l)] = np.zeros((layer_dims[l],1))          \n",
    "        \n",
    "        drop_out = np.random.rand(layer_dims[l],layer_dims[l-1])\n",
    "        parameters['D' + str(l)] = drop_out < keep_prob \n",
    "        parameters['W' + str(l)] = parameters['W' + str(l)]*parameters['D' + str(l)]                           \n",
    "        parameters['W' + str(l)] = parameters['W' + str(l)]/keep_prob\n",
    "        \n",
    "        assert(parameters['W' + str(l)].shape == (layer_dims[l], layer_dims[l-1]))\n",
    "        assert(parameters['b' + str(l)].shape == (layer_dims[l], 1))\n",
    "        \n",
    "    return parameters\n",
    "    \n",
    "def linear_forward(A, W, b):\n",
    "    Z = np.dot(W,A)+b\n",
    "    cache = (A, W, b)\n",
    "    assert(Z.shape == (W.shape[0], A.shape[1]))\n",
    "    return Z, cache\n",
    "\n",
    "def relu(z):\n",
    "    r = z * (z > 0)\n",
    "    return r,z \n",
    "\n",
    "def sigmoid(z):\n",
    "    s = 1/(1+np.exp(-z))\n",
    "    return s,z\n",
    "\n",
    "def tanh(z):\n",
    "    t = (2/(1+np.exp(-z))) - 1\n",
    "    return t,z\n",
    "\n",
    "def linear_activation_forward(A_prev, W, b, activation):\n",
    "    Z, linear_cache = linear_forward(A_prev, W, b)\n",
    "    if activation == \"sigmoid\":\n",
    "        A, activation_cache = sigmoid(Z)\n",
    "    \n",
    "    elif activation == \"relu\":\n",
    "        A, activation_cache = relu(Z)\n",
    "        \n",
    "    elif activation == \"tanh\":\n",
    "        A, activation_cache = tanh(Z)\n",
    "    \n",
    "    else:\n",
    "        print(\"Error in Activation\")\n",
    "    \n",
    "    cache = (linear_cache, activation_cache)\n",
    "    assert (A.shape == (W.shape[0], A_prev.shape[1]))\n",
    "    return A, cache\n",
    "\n",
    "def L_model_forward(X, parameters,activation):\n",
    "    caches = []\n",
    "    A = X\n",
    "    L = len(activation) \n",
    "    for l in range(1, L):\n",
    "        A_prev = A \n",
    "        A, cache = linear_activation_forward(A_prev,parameters['W' + str(l)], parameters['b' + str(l)], activation=activation[l-1])\n",
    "        caches.append(cache)\n",
    "    AL, cache = linear_activation_forward(A,parameters['W' + str(L)], parameters['b' + str(L)], activation='sigmoid')\n",
    "    caches.append(cache)\n",
    "    \n",
    "    assert(AL.shape == (1,X.shape[1]))\n",
    "    assert (L == len(activation))\n",
    "    return AL, caches\n",
    "\n",
    "def compute_cost_L2(AL, Y,lambd,layer_dims,parameters):\n",
    "    m = Y.shape[1]\n",
    "    L = len(layer_dims)    \n",
    "    sum_W=0\n",
    "    \n",
    "    if lambd == 0:\n",
    "        cost = -(1/m)*np.sum((Y*np.log(AL))+((1-Y)*np.log(1-AL)))\n",
    "    else:\n",
    "        for l in range(1, L):\n",
    "            sum_W = sum_W + np.sum(np.square(parameters['W' + str(l)])) \n",
    "        L2_regularization_cost = (1/m)*(lambd/2)*sum_W\n",
    "        cost = -(1/m)*np.sum((Y*np.log(AL))+((1-Y)*np.log(1-AL)))+L2_regularization_cost\n",
    "    \n",
    "    cost = np.squeeze(cost)\n",
    "    assert(cost.shape == ())\n",
    "    return cost\n",
    "\n",
    "def relu_backward(dA, cache):\n",
    "    Z = cache\n",
    "    dZ = np.array(dA, copy=True) \n",
    "    dZ[Z <= 0] = 0 \n",
    "    \n",
    "    assert (dZ.shape == Z.shape)\n",
    "    return dZ\n",
    "\n",
    "def sigmoid_backward(dA, cache):\n",
    "    Z = cache\n",
    "    s = 1/(1+np.exp(-Z))\n",
    "    dZ = dA * s * (1-s)\n",
    "    \n",
    "    assert (dZ.shape == Z.shape)\n",
    "    return dZ\n",
    "\n",
    "def tanh_backward(dA, cache):\n",
    "    Z = cache\n",
    "    s = np.tanh(-Z)\n",
    "    dZ = 1 - (s**2)\n",
    "    \n",
    "    assert (dZ.shape == Z.shape)\n",
    "    return dZ\n",
    "\n",
    "def linear_backward(dZ, cache,lambd):\n",
    "    A_prev, W, b = cache\n",
    "    m = A_prev.shape[1]\n",
    "    dW = (1/m)*np.dot(dZ,A_prev.T)\n",
    "    \n",
    "    if lambd != 0:\n",
    "        dW = dW + (lambd*W/m)\n",
    "    \n",
    "    db = (1/m)*np.sum(dZ,axis=1, keepdims=True)\n",
    "    dA_prev = np.dot(W.T,dZ)\n",
    "    \n",
    "    assert (dA_prev.shape == A_prev.shape)\n",
    "    assert (dW.shape == W.shape)\n",
    "    assert (db.shape == b.shape)\n",
    "    return dA_prev, dW, db\n",
    "\n",
    "def linear_activation_backward(dA, cache, lambd,activation):\n",
    "    linear_cache, activation_cache = cache\n",
    "    \n",
    "    if activation == \"relu\":\n",
    "        dZ = relu_backward(dA,activation_cache)\n",
    "        dA_prev, dW, db =  linear_backward(dZ, linear_cache,lambd)\n",
    "        \n",
    "    elif activation == \"sigmoid\":\n",
    "        dZ = sigmoid_backward(dA,activation_cache)\n",
    "        dA_prev, dW, db =  linear_backward(dZ, linear_cache,lambd)\n",
    "        \n",
    "    elif activation == \"tanh\":\n",
    "        dZ = tanh_backward(dA,activation_cache)\n",
    "        dA_prev, dW, db =  linear_backward(dZ, linear_cache,lambd)\n",
    "    \n",
    "    return dA_prev, dW, db\n",
    "\n",
    "def model_backward(AL, Y, caches,lambd,activation,parameters,keep_prob):\n",
    "\n",
    "    grads = {}\n",
    "    L = len(caches) \n",
    "    m = AL.shape[1]\n",
    "    Y = Y.reshape(AL.shape)\n",
    "    \n",
    "    dAL = - (np.divide(Y, AL) - np.divide(1 - Y, 1 - AL)) \n",
    "    \n",
    "    current_cache = caches[L-1]\n",
    "    grads[\"dA\" + str(L)], grads[\"dW\" + str(L)], grads[\"db\" + str(L)] = linear_activation_backward(dAL, current_cache,lambd=lambd, activation = 'sigmoid')\n",
    "    grads[\"dW\" + str(L)] = grads[\"dW\" + str(L)]*parameters['D' + str(L)] \n",
    "    grads[\"dW\" + str(L)] = grads[\"dW\" + str(L)]/keep_prob \n",
    "\n",
    "    for l in reversed(range(L-1)):\n",
    "        current_cache = caches[l]\n",
    "        dA_prev_temp, dW_temp, db_temp = linear_activation_backward(grads[\"dA\" + str(l + 2)], current_cache,lambd=lambd, activation = activation[l])\n",
    "        grads[\"dA\" + str(l + 1)] = dA_prev_temp\n",
    "        grads[\"dW\" + str(l + 1)] = dW_temp\n",
    "        grads[\"dW\" + str(l + 1)] = grads[\"dW\" + str(l + 1)]*parameters['D' + str(l + 1)] \n",
    "        grads[\"dW\" + str(l + 1)] = grads[\"dW\" + str(l + 1)]/keep_prob \n",
    "        grads[\"db\" + str(l + 1)] = db_temp\n",
    "        \n",
    "    return grads\n",
    "\n",
    "def update_parameters(parameters, grads, learning_rate):\n",
    "    L = len(activation) \n",
    "    \n",
    "    for l in range(L):\n",
    "        parameters[\"W\" + str(l+1)] = parameters['W' + str(l+1)] - learning_rate* grads[\"dW\" + str(l + 1)] \n",
    "        parameters[\"b\" + str(l+1)] = parameters['b' + str(l+1)] - learning_rate* grads[\"db\" + str(l + 1)] \n",
    "        \n",
    "    return parameters\n",
    "\n",
    "def initialize_velocity(parameters,activation):\n",
    "    L = len(activation) \n",
    "    v = {}\n",
    "\n",
    "    for l in range(L):\n",
    "        v[\"dW\" + str(l+1)] = np.zeros(parameters[\"W\" + str(l+1)].shape)\n",
    "        v[\"db\" + str(l+1)] = np.zeros(parameters[\"b\" + str(l+1)].shape)\n",
    "        \n",
    "    return v\n",
    "\n",
    "def update_parameters_with_momentum(parameters, grads, v, beta, learning_rate,activation):\n",
    "\n",
    "    L = len(activation) \n",
    "\n",
    "    for l in range(L):\n",
    "\n",
    "        v[\"dW\" + str(l+1)] = beta*v['dW' + str(l+1)] + (1-beta)*grads['dW' + str(l+1)]\n",
    "        v[\"db\" + str(l+1)] = beta*v['db' + str(l+1)] + (1-beta)*grads['db' + str(l+1)]\n",
    "\n",
    "        parameters[\"W\" + str(l+1)] = parameters[\"W\" + str(l+1)] - learning_rate*v[\"dW\" + str(l+1)] \n",
    "        parameters[\"b\" + str(l+1)] = parameters[\"b\" + str(l+1)] - learning_rate*v[\"db\" + str(l+1)] \n",
    "\n",
    "    return parameters, v\n",
    "\n",
    "def initialize_adam(parameters) :\n",
    "\n",
    "    L = len(activation) \n",
    "    v = {}\n",
    "    s = {}\n",
    "\n",
    "    for l in range(L):\n",
    "\n",
    "        v[\"dW\" + str(l+1)] = np.zeros(parameters['W' + str(l+1)].shape)\n",
    "        v[\"db\" + str(l+1)] = np.zeros(parameters['b' + str(l+1)].shape)\n",
    "        s[\"dW\" + str(l+1)] = np.zeros(parameters['W' + str(l+1)].shape)\n",
    "        s[\"db\" + str(l+1)] = np.zeros(parameters['b' + str(l+1)].shape)\n",
    "    \n",
    "    return v, s\n",
    "\n",
    "def update_parameters_with_adam(parameters, grads, v, s, t, learning_rate,beta1, beta2, epsilon):\n",
    "    L = len(activation) \n",
    "    v_corrected = {}                     \n",
    "    s_corrected = {}                    \n",
    "\n",
    "    for l in range(L):\n",
    "\n",
    "        v[\"dW\" + str(l+1)] = beta1 * v[\"dW\" + str(l+1)] + (1-beta1)*grads['dW' + str(l+1)]\n",
    "        v[\"db\" + str(l+1)] = beta1 * v[\"db\" + str(l+1)] + (1-beta1)*grads['db' + str(l+1)]\n",
    "\n",
    "        v_corrected[\"dW\" + str(l+1)] = v[\"dW\" + str(l+1)]/(1-beta1**t)\n",
    "        v_corrected[\"db\" + str(l+1)] = v[\"db\" + str(l+1)]/(1-beta1**t)\n",
    "\n",
    "        s[\"dW\" + str(l+1)] = beta2 * s[\"dW\" + str(l+1)] + (1-beta2)*grads['dW' + str(l+1)]**2\n",
    "        s[\"db\" + str(l+1)] = beta2 * s[\"db\" + str(l+1)] + (1-beta2)*grads['db' + str(l+1)]**2\n",
    "\n",
    "        s_corrected[\"dW\" + str(l+1)] = s[\"dW\" + str(l+1)]/(1-beta2**t)\n",
    "        s_corrected[\"db\" + str(l+1)] = s[\"db\" + str(l+1)]/(1-beta2**t)\n",
    "\n",
    "        parameters[\"W\" + str(l+1)] = parameters[\"W\" + str(l+1)] - learning_rate*(v_corrected[\"dW\" + str(l+1)]/(np.sqrt(s_corrected[\"dW\" + str(l+1)]+epsilon)))\n",
    "        parameters[\"b\" + str(l+1)] = parameters[\"b\" + str(l+1)] - learning_rate*(v_corrected[\"db\" + str(l+1)]/(np.sqrt(s_corrected[\"db\" + str(l+1)]+epsilon)))\n",
    "\n",
    "    return parameters, v, s\n",
    "\n",
    "\n",
    "def random_mini_batches(X, Y, mini_batch_size,seed = 0):    \n",
    "    \n",
    "    np.random.seed(seed)\n",
    "    m = X.shape[1]            \n",
    "    mini_batches = []\n",
    " \n",
    "    permutation = list(np.random.permutation(m))\n",
    "    shuffled_X = X.iloc[:, permutation]\n",
    "    shuffled_Y = Y[:, permutation].reshape((1,m))\n",
    "\n",
    "    num_complete_minibatches = math.floor(m/mini_batch_size)\n",
    "    for k in range(0, num_complete_minibatches):\n",
    "\n",
    "        mini_batch_X = shuffled_X.iloc[:,(k*mini_batch_size):((k+1)*mini_batch_size)]\n",
    "        mini_batch_Y = shuffled_Y[:,(k*mini_batch_size):((k+1)*mini_batch_size)]\n",
    "\n",
    "        mini_batch = (mini_batch_X, mini_batch_Y)\n",
    "        mini_batches.append(mini_batch)\n",
    "    \n",
    "\n",
    "    if m % mini_batch_size != 0:\n",
    "\n",
    "        mini_batch_X = shuffled_X.iloc[:, -( m - (mini_batch_size * math.floor(m/mini_batch_size) ) ) ]\n",
    "        mini_batch_Y = shuffled_Y[:, -( m - (mini_batch_size * math.floor(m/mini_batch_size) ) ) ]\n",
    "\n",
    "        mini_batch = (mini_batch_X, mini_batch_Y)\n",
    "        mini_batches.append(mini_batch)\n",
    "    \n",
    "    return mini_batches\n",
    "\n",
    "def L_layer_model_L2(X, Y, layer_dims,activation, initialization,keep_prob,mini_batch_size,\n",
    "                     test_x, test_y,\n",
    "                     lambd=0,learning_rate = 0.0075, \n",
    "                     num_iterations = 3000,print_cost=False,beta=.9,optimizer=\"gd\",beta1 = 0.9, beta2 = 0.999,  epsilon = 1e-8):\n",
    "    \n",
    "    costs = []    \n",
    "    train_accuracies = []\n",
    "    test_accuracies = []\n",
    "    t = 0\n",
    "    seed = 0\n",
    "    parameters = initialize_parameters(layer_dims,initialization,keep_prob)\n",
    "    v = initialize_velocity(parameters,activation)\n",
    "    v,s = initialize_adam(parameters)\n",
    "    num_batches = X.shape[1] // mini_batch_size\n",
    "\n",
    "    mini_batches = random_mini_batches(X, Y, mini_batch_size)\n",
    "\n",
    "    for i in range(0, num_iterations):\n",
    "        random_shuffle = np.arange(0, num_batches)\n",
    "        random.shuffle(random_shuffle)\n",
    "        for j in random_shuffle:\n",
    "\n",
    "            AL, caches = L_model_forward(mini_batches[j][0], parameters,activation)\n",
    "\n",
    "            cost = compute_cost_L2(AL, mini_batches[j][1], lambd,layer_dims,parameters)\n",
    "\n",
    "            grads = model_backward(AL, mini_batches[j][1], caches,lambd,activation,parameters,keep_prob)\n",
    "            \n",
    "            if optimizer == 'gd':\n",
    "                parameters = update_parameters(parameters, grads, learning_rate)\n",
    "            elif optimizer == 'momentum':\n",
    "                parameters,v =  update_parameters_with_momentum(parameters, grads, v, beta, learning_rate,activation)\n",
    "\n",
    "            elif optimizer == 'adam':\n",
    "                t = t + 1\n",
    "                parameters,v,s = update_parameters_with_adam(parameters, grads, v, s, t, learning_rate,\n",
    "                                beta1, beta2, epsilon)\n",
    "            \n",
    "            if print_cost and i % 10 == 0:\n",
    "                print (\"Cost after iteration %i: %f\" %(i, cost))\n",
    "                \n",
    "                m = X.shape[1]\n",
    "                n = len(parameters) // 2 \n",
    "                p_train = np.zeros((1,m))\n",
    "                p_test = np.zeros((1,test_x.shape[1]))\n",
    "                probas_train, caches = L_model_forward(train_x, parameters,activation)\n",
    "                probas_test, caches = L_model_forward(test_x, parameters,activation)\n",
    "                \n",
    "                for i in range(0, probas_train.shape[1]):\n",
    "                    if probas_train[0,i] > 0.5:\n",
    "                        p_train[0,i] = 1\n",
    "                    else:\n",
    "                        p_train[0,i] = 0\n",
    "                        \n",
    "                for i in range(0, probas_test.shape[1]):\n",
    "                    if probas_test[0,i] > 0.5:\n",
    "                        p_test[0,i] = 1\n",
    "                    else:\n",
    "                        p_test[0,i] = 0\n",
    "                        \n",
    "                train_accuracy = (np.sum((p_train == train_y)/m))\n",
    "                test_accuracy = (np.sum((p_test == test_y)/test_x.shape[1]))\n",
    "        \n",
    "                costs.append(cost)\n",
    "                train_accuracies.append(train_accuracy)\n",
    "                test_accuracies.append(test_accuracy)\n",
    "                \n",
    "    plt.plot(np.squeeze(costs),label = \"cost\")\n",
    "    plt.plot(np.squeeze(train_accuracies), label = \"train accuracy\")\n",
    "    plt.plot(np.squeeze(train_accuracies), label = \"test accuracy\")\n",
    "    plt.ylabel('cost')\n",
    "    plt.xlabel('iterations (per tens)')\n",
    "    plt.title(\"Learning rate =\" + str(learning_rate))\n",
    "    plt.legend()\n",
    "    plt.show()\n",
    "    \n",
    "    return parameters\n",
    "\n",
    "def predict(X, y, parameters,activation):\n",
    "\n",
    "    m = X.shape[1]\n",
    "    n = len(parameters) // 2 \n",
    "    p = np.zeros((1,m))\n",
    "    \n",
    "    probas, caches = L_model_forward(X, parameters,activation)\n",
    "    \n",
    "    for i in range(0, probas.shape[1]):\n",
    "        if probas[0,i] > 0.5:\n",
    "            p[0,i] = 1\n",
    "        \n",
    "        else:\n",
    "            p[0,i] = 0\n",
    "\n",
    "    print(\"Number of Ones = \"+str(np.sum(p)))\n",
    "    print(\"Accuracy: \"  + str(np.sum((p == y)/m)))\n",
    "    return"
   ]
  },
  {
   "cell_type": "markdown",
   "metadata": {},
   "source": [
    "### Plain DNN"
   ]
  },
  {
   "cell_type": "code",
   "execution_count": 24,
   "metadata": {
    "scrolled": true
   },
   "outputs": [
    {
     "name": "stdout",
     "output_type": "stream",
     "text": [
      "Cost after iteration 0: 0.693175\n",
      "Cost after iteration 10: 0.693023\n",
      "Cost after iteration 20: 0.692863\n",
      "Cost after iteration 30: 0.692677\n",
      "Cost after iteration 40: 0.692436\n",
      "Cost after iteration 50: 0.692099\n",
      "Cost after iteration 60: 0.691600\n",
      "Cost after iteration 70: 0.690813\n",
      "Cost after iteration 80: 0.689491\n",
      "Cost after iteration 90: 0.687101\n",
      "Cost after iteration 100: 0.682363\n",
      "Cost after iteration 110: 0.671790\n",
      "Cost after iteration 120: 0.644793\n",
      "Cost after iteration 130: 0.573433\n",
      "Cost after iteration 140: 0.452636\n",
      "Cost after iteration 150: 0.350813\n",
      "Cost after iteration 160: 0.266873\n",
      "Cost after iteration 170: 0.189001\n",
      "Cost after iteration 180: 0.134610\n",
      "Cost after iteration 190: 0.106186\n",
      "Cost after iteration 200: 0.091394\n",
      "Cost after iteration 210: 0.082853\n",
      "Cost after iteration 220: 0.077389\n",
      "Cost after iteration 230: 0.073587\n",
      "Cost after iteration 240: 0.070766\n",
      "Cost after iteration 250: 0.068566\n",
      "Cost after iteration 260: 0.066783\n",
      "Cost after iteration 270: 0.065291\n",
      "Cost after iteration 280: 0.064011\n",
      "Cost after iteration 290: 0.062889\n",
      "Cost after iteration 300: 0.061888\n",
      "Cost after iteration 310: 0.060983\n",
      "Cost after iteration 320: 0.060155\n",
      "Cost after iteration 330: 0.059393\n",
      "Cost after iteration 340: 0.058688\n",
      "Cost after iteration 350: 0.058031\n",
      "Cost after iteration 360: 0.057416\n",
      "Cost after iteration 370: 0.056837\n",
      "Cost after iteration 380: 0.056292\n",
      "Cost after iteration 390: 0.055776\n",
      "Cost after iteration 400: 0.055287\n",
      "Cost after iteration 410: 0.054822\n",
      "Cost after iteration 420: 0.054380\n",
      "Cost after iteration 430: 0.053958\n",
      "Cost after iteration 440: 0.053554\n",
      "Cost after iteration 450: 0.053168\n",
      "Cost after iteration 460: 0.052798\n",
      "Cost after iteration 470: 0.052443\n",
      "Cost after iteration 480: 0.052101\n",
      "Cost after iteration 490: 0.051772\n",
      "Cost after iteration 500: 0.051454\n",
      "Cost after iteration 510: 0.051148\n",
      "Cost after iteration 520: 0.050852\n",
      "Cost after iteration 530: 0.050566\n",
      "Cost after iteration 540: 0.050288\n",
      "Cost after iteration 550: 0.050020\n",
      "Cost after iteration 560: 0.049758\n",
      "Cost after iteration 570: 0.049504\n",
      "Cost after iteration 580: 0.049257\n",
      "Cost after iteration 590: 0.049017\n",
      "Cost after iteration 600: 0.048782\n",
      "Cost after iteration 610: 0.048554\n",
      "Cost after iteration 620: 0.048330\n",
      "Cost after iteration 630: 0.048112\n",
      "Cost after iteration 640: 0.047898\n",
      "Cost after iteration 650: 0.047689\n",
      "Cost after iteration 660: 0.047484\n",
      "Cost after iteration 670: 0.047283\n",
      "Cost after iteration 680: 0.047086\n",
      "Cost after iteration 690: 0.046892\n",
      "Cost after iteration 700: 0.046702\n",
      "Cost after iteration 710: 0.046514\n",
      "Cost after iteration 720: 0.046330\n",
      "Cost after iteration 730: 0.046148\n",
      "Cost after iteration 740: 0.045969\n",
      "Cost after iteration 750: 0.045793\n",
      "Cost after iteration 760: 0.045619\n",
      "Cost after iteration 770: 0.045447\n",
      "Cost after iteration 780: 0.045278\n",
      "Cost after iteration 790: 0.045110\n",
      "Cost after iteration 800: 0.044944\n",
      "Cost after iteration 810: 0.044780\n",
      "Cost after iteration 820: 0.044618\n",
      "Cost after iteration 830: 0.044458\n",
      "Cost after iteration 840: 0.044299\n",
      "Cost after iteration 850: 0.044141\n",
      "Cost after iteration 860: 0.043985\n",
      "Cost after iteration 870: 0.043830\n",
      "Cost after iteration 880: 0.043677\n",
      "Cost after iteration 890: 0.043525\n",
      "Cost after iteration 900: 0.043374\n",
      "Cost after iteration 910: 0.043224\n",
      "Cost after iteration 920: 0.043075\n",
      "Cost after iteration 930: 0.042927\n",
      "Cost after iteration 940: 0.042780\n",
      "Cost after iteration 950: 0.042634\n",
      "Cost after iteration 960: 0.042489\n",
      "Cost after iteration 970: 0.042344\n",
      "Cost after iteration 980: 0.042201\n",
      "Cost after iteration 990: 0.042058\n",
      "Cost after iteration 1000: 0.041916\n",
      "Cost after iteration 1010: 0.041775\n",
      "Cost after iteration 1020: 0.041634\n",
      "Cost after iteration 1030: 0.041494\n",
      "Cost after iteration 1040: 0.041354\n",
      "Cost after iteration 1050: 0.041215\n",
      "Cost after iteration 1060: 0.041076\n",
      "Cost after iteration 1070: 0.040938\n",
      "Cost after iteration 1080: 0.040800\n",
      "Cost after iteration 1090: 0.040663\n",
      "Cost after iteration 1100: 0.040525\n",
      "Cost after iteration 1110: 0.040388\n",
      "Cost after iteration 1120: 0.040251\n",
      "Cost after iteration 1130: 0.040114\n",
      "Cost after iteration 1140: 0.039978\n",
      "Cost after iteration 1150: 0.039841\n",
      "Cost after iteration 1160: 0.039705\n",
      "Cost after iteration 1170: 0.039569\n",
      "Cost after iteration 1180: 0.039433\n",
      "Cost after iteration 1190: 0.039297\n",
      "Cost after iteration 1200: 0.039161\n",
      "Cost after iteration 1210: 0.039025\n",
      "Cost after iteration 1220: 0.038889\n",
      "Cost after iteration 1230: 0.038753\n",
      "Cost after iteration 1240: 0.038617\n",
      "Cost after iteration 1250: 0.038480\n",
      "Cost after iteration 1260: 0.038344\n",
      "Cost after iteration 1270: 0.038207\n",
      "Cost after iteration 1280: 0.038071\n",
      "Cost after iteration 1290: 0.037933\n",
      "Cost after iteration 1300: 0.037795\n",
      "Cost after iteration 1310: 0.037656\n",
      "Cost after iteration 1320: 0.037518\n",
      "Cost after iteration 1330: 0.037379\n",
      "Cost after iteration 1340: 0.037239\n",
      "Cost after iteration 1350: 0.037099\n",
      "Cost after iteration 1360: 0.036958\n",
      "Cost after iteration 1370: 0.036818\n",
      "Cost after iteration 1380: 0.036677\n",
      "Cost after iteration 1390: 0.036535\n",
      "Cost after iteration 1400: 0.036392\n",
      "Cost after iteration 1410: 0.036249\n",
      "Cost after iteration 1420: 0.036104\n",
      "Cost after iteration 1430: 0.035959\n",
      "Cost after iteration 1440: 0.035813\n",
      "Cost after iteration 1450: 0.035667\n",
      "Cost after iteration 1460: 0.035521\n",
      "Cost after iteration 1470: 0.035374\n",
      "Cost after iteration 1480: 0.035226\n",
      "Cost after iteration 1490: 0.035078\n",
      "Cost after iteration 1500: 0.034928\n",
      "Cost after iteration 1510: 0.034779\n",
      "Cost after iteration 1520: 0.034628\n",
      "Cost after iteration 1530: 0.034476\n",
      "Cost after iteration 1540: 0.034324\n",
      "Cost after iteration 1550: 0.034171\n",
      "Cost after iteration 1560: 0.034017\n",
      "Cost after iteration 1570: 0.033863\n",
      "Cost after iteration 1580: 0.033708\n",
      "Cost after iteration 1590: 0.033552\n",
      "Cost after iteration 1600: 0.033396\n",
      "Cost after iteration 1610: 0.033239\n",
      "Cost after iteration 1620: 0.033080\n",
      "Cost after iteration 1630: 0.032921\n",
      "Cost after iteration 1640: 0.032761\n",
      "Cost after iteration 1650: 0.032600\n",
      "Cost after iteration 1660: 0.032438\n",
      "Cost after iteration 1670: 0.032275\n",
      "Cost after iteration 1680: 0.032111\n",
      "Cost after iteration 1690: 0.031946\n",
      "Cost after iteration 1700: 0.031779\n",
      "Cost after iteration 1710: 0.031612\n",
      "Cost after iteration 1720: 0.031444\n",
      "Cost after iteration 1730: 0.031276\n",
      "Cost after iteration 1740: 0.031106\n",
      "Cost after iteration 1750: 0.030935\n",
      "Cost after iteration 1760: 0.030763\n",
      "Cost after iteration 1770: 0.030591\n",
      "Cost after iteration 1780: 0.030417\n",
      "Cost after iteration 1790: 0.030242\n",
      "Cost after iteration 1800: 0.030067\n",
      "Cost after iteration 1810: 0.029891\n",
      "Cost after iteration 1820: 0.029714\n",
      "Cost after iteration 1830: 0.029535\n",
      "Cost after iteration 1840: 0.029356\n",
      "Cost after iteration 1850: 0.029177\n",
      "Cost after iteration 1860: 0.028996\n",
      "Cost after iteration 1870: 0.028815\n",
      "Cost after iteration 1880: 0.028633\n",
      "Cost after iteration 1890: 0.028450\n",
      "Cost after iteration 1900: 0.028266\n",
      "Cost after iteration 1910: 0.028082\n",
      "Cost after iteration 1920: 0.027897\n",
      "Cost after iteration 1930: 0.027712\n",
      "Cost after iteration 1940: 0.027526\n",
      "Cost after iteration 1950: 0.027340\n",
      "Cost after iteration 1960: 0.027153\n",
      "Cost after iteration 1970: 0.026966\n",
      "Cost after iteration 1980: 0.026778\n",
      "Cost after iteration 1990: 0.026589\n",
      "Cost after iteration 2000: 0.026400\n",
      "Cost after iteration 2010: 0.026210\n",
      "Cost after iteration 2020: 0.026021\n",
      "Cost after iteration 2030: 0.025830\n",
      "Cost after iteration 2040: 0.025640\n",
      "Cost after iteration 2050: 0.025450\n",
      "Cost after iteration 2060: 0.025259\n",
      "Cost after iteration 2070: 0.025069\n",
      "Cost after iteration 2080: 0.024879\n",
      "Cost after iteration 2090: 0.024689\n",
      "Cost after iteration 2100: 0.024499\n",
      "Cost after iteration 2110: 0.024309\n",
      "Cost after iteration 2120: 0.024120\n",
      "Cost after iteration 2130: 0.023931\n",
      "Cost after iteration 2140: 0.023743\n",
      "Cost after iteration 2150: 0.023555\n",
      "Cost after iteration 2160: 0.023367\n",
      "Cost after iteration 2170: 0.023180\n",
      "Cost after iteration 2180: 0.022993\n",
      "Cost after iteration 2190: 0.022807\n",
      "Cost after iteration 2200: 0.022621\n",
      "Cost after iteration 2210: 0.022436\n",
      "Cost after iteration 2220: 0.022251\n",
      "Cost after iteration 2230: 0.022068\n",
      "Cost after iteration 2240: 0.021885\n",
      "Cost after iteration 2250: 0.021704\n",
      "Cost after iteration 2260: 0.021523\n",
      "Cost after iteration 2270: 0.021343\n",
      "Cost after iteration 2280: 0.021164\n",
      "Cost after iteration 2290: 0.020986\n",
      "Cost after iteration 2300: 0.020809\n"
     ]
    },
    {
     "name": "stdout",
     "output_type": "stream",
     "text": [
      "Cost after iteration 2310: 0.020634\n",
      "Cost after iteration 2320: 0.020459\n",
      "Cost after iteration 2330: 0.020286\n",
      "Cost after iteration 2340: 0.020115\n",
      "Cost after iteration 2350: 0.019944\n",
      "Cost after iteration 2360: 0.019775\n",
      "Cost after iteration 2370: 0.019607\n",
      "Cost after iteration 2380: 0.019440\n",
      "Cost after iteration 2390: 0.019275\n",
      "Cost after iteration 2400: 0.019111\n",
      "Cost after iteration 2410: 0.018949\n",
      "Cost after iteration 2420: 0.018787\n",
      "Cost after iteration 2430: 0.018628\n",
      "Cost after iteration 2440: 0.018469\n",
      "Cost after iteration 2450: 0.018313\n",
      "Cost after iteration 2460: 0.018157\n",
      "Cost after iteration 2470: 0.018003\n",
      "Cost after iteration 2480: 0.017851\n",
      "Cost after iteration 2490: 0.017700\n",
      "Cost after iteration 2500: 0.017551\n",
      "Cost after iteration 2510: 0.017403\n",
      "Cost after iteration 2520: 0.017257\n",
      "Cost after iteration 2530: 0.017112\n",
      "Cost after iteration 2540: 0.016969\n",
      "Cost after iteration 2550: 0.016827\n",
      "Cost after iteration 2560: 0.016687\n",
      "Cost after iteration 2570: 0.016548\n",
      "Cost after iteration 2580: 0.016410\n",
      "Cost after iteration 2590: 0.016274\n",
      "Cost after iteration 2600: 0.016139\n",
      "Cost after iteration 2610: 0.016006\n",
      "Cost after iteration 2620: 0.015873\n",
      "Cost after iteration 2630: 0.015743\n",
      "Cost after iteration 2640: 0.015613\n",
      "Cost after iteration 2650: 0.015485\n",
      "Cost after iteration 2660: 0.015358\n",
      "Cost after iteration 2670: 0.015232\n",
      "Cost after iteration 2680: 0.015108\n",
      "Cost after iteration 2690: 0.014984\n",
      "Cost after iteration 2700: 0.014862\n",
      "Cost after iteration 2710: 0.014741\n",
      "Cost after iteration 2720: 0.014621\n",
      "Cost after iteration 2730: 0.014502\n",
      "Cost after iteration 2740: 0.014383\n",
      "Cost after iteration 2750: 0.014266\n",
      "Cost after iteration 2760: 0.014150\n",
      "Cost after iteration 2770: 0.014035\n",
      "Cost after iteration 2780: 0.013920\n",
      "Cost after iteration 2790: 0.013807\n",
      "Cost after iteration 2800: 0.013695\n",
      "Cost after iteration 2810: 0.013584\n",
      "Cost after iteration 2820: 0.013474\n",
      "Cost after iteration 2830: 0.013365\n",
      "Cost after iteration 2840: 0.013257\n",
      "Cost after iteration 2850: 0.013150\n",
      "Cost after iteration 2860: 0.013043\n",
      "Cost after iteration 2870: 0.012938\n",
      "Cost after iteration 2880: 0.012834\n",
      "Cost after iteration 2890: 0.012731\n",
      "Cost after iteration 2900: 0.012629\n",
      "Cost after iteration 2910: 0.012528\n",
      "Cost after iteration 2920: 0.012428\n",
      "Cost after iteration 2930: 0.012329\n",
      "Cost after iteration 2940: 0.012231\n",
      "Cost after iteration 2950: 0.012134\n",
      "Cost after iteration 2960: 0.012037\n",
      "Cost after iteration 2970: 0.011942\n",
      "Cost after iteration 2980: 0.011847\n",
      "Cost after iteration 2990: 0.011753\n"
     ]
    },
    {
     "data": {
      "image/png": "[encoded data removed]",
      "text/plain": [
       "<matplotlib.figure.Figure at 0x2158f42fe48>"
      ]
     },
     "metadata": {},
     "output_type": "display_data"
    },
    {
     "name": "stdout",
     "output_type": "stream",
     "text": [
      "Wall time: 6min\n"
     ]
    }
   ],
   "source": [
    "%%time\n",
    "layer_dims = [train_x.shape[0],128,128,1]\n",
    "activation = [\"relu\",\"relu\",\"sigmoid\"]\n",
    "\n",
    "parameters = L_layer_model_L2(X=train_x,Y=train_y, \n",
    "                              layer_dims=layer_dims,\n",
    "                              activation=activation,\n",
    "                              initialization='random',\n",
    "                              keep_prob=1,\n",
    "                              mini_batch_size = 8431,\n",
    "                              test_x=test_x, test_y=test_y,\n",
    "                              learning_rate = .1, lambd=0, \n",
    "                              num_iterations = 3000, print_cost = True,\n",
    "                              optimizer='gd')\n"
   ]
  },
  {
   "cell_type": "code",
   "execution_count": 25,
   "metadata": {
    "scrolled": true
   },
   "outputs": [
    {
     "name": "stdout",
     "output_type": "stream",
     "text": [
      "Number of Ones = 4212.0\n",
      "Accuracy: 0.997034752698\n"
     ]
    }
   ],
   "source": [
    "predict(train_x, train_y, parameters,activation)"
   ]
  },
  {
   "cell_type": "code",
   "execution_count": 26,
   "metadata": {},
   "outputs": [
    {
     "name": "stdout",
     "output_type": "stream",
     "text": [
      "Number of Ones = 475.0\n",
      "Accuracy: 0.987179487179\n"
     ]
    }
   ],
   "source": [
    "predict(test_x, test_y, parameters,activation)"
   ]
  },
  {
   "cell_type": "markdown",
   "metadata": {},
   "source": [
    "#### This took almost 6.5 minutes. However, there is a one percent discrepancy between the training accuracy and testing accuracy. There is a sign of slight overfitting."
   ]
  },
  {
   "cell_type": "markdown",
   "metadata": {},
   "source": [
    "# ALL METHODS"
   ]
  },
  {
   "cell_type": "code",
   "execution_count": 141,
   "metadata": {
    "scrolled": true
   },
   "outputs": [
    {
     "name": "stdout",
     "output_type": "stream",
     "text": [
      "Cost after iteration 0: 0.693158\n",
      "Cost after iteration 10: 0.049765\n",
      "Cost after iteration 20: 0.039508\n",
      "Cost after iteration 30: 0.016118\n",
      "Cost after iteration 40: 0.016076\n",
      "Cost after iteration 50: 0.015660\n",
      "Cost after iteration 60: 0.012820\n",
      "Cost after iteration 70: 0.013739\n",
      "Cost after iteration 80: 0.010329\n",
      "Cost after iteration 90: 0.009763\n"
     ]
    },
    {
     "data": {
      "image/png": "[encoded data removed]",
      "text/plain": [
       "<matplotlib.figure.Figure at 0x2158f96fdd8>"
      ]
     },
     "metadata": {},
     "output_type": "display_data"
    },
    {
     "name": "stdout",
     "output_type": "stream",
     "text": [
      "Wall time: 21.5 s\n"
     ]
    }
   ],
   "source": [
    "%%time\n",
    "layer_dims = [train_x.shape[0],128,128,1]\n",
    "activation = [\"relu\",\"relu\",\"sigmoid\"]\n",
    "\n",
    "parameters = L_layer_model_L2(X=train_x,Y=train_y, \n",
    "                              layer_dims=layer_dims,\n",
    "                              activation=activation,\n",
    "                              initialization='he',\n",
    "                              keep_prob=.7,\n",
    "                              mini_batch_size = 512,\n",
    "                              test_x=test_x, test_y=test_y,\n",
    "                              learning_rate = .001, lambd=.15, \n",
    "                              num_iterations = 100, print_cost = True,\n",
    "                              optimizer='adam')\n"
   ]
  },
  {
   "cell_type": "code",
   "execution_count": 142,
   "metadata": {
    "scrolled": true
   },
   "outputs": [
    {
     "name": "stdout",
     "output_type": "stream",
     "text": [
      "Number of Ones = 4211.0\n",
      "Accuracy: 0.999762780216\n"
     ]
    }
   ],
   "source": [
    "predict(train_x, train_y, parameters,activation)"
   ]
  },
  {
   "cell_type": "code",
   "execution_count": 143,
   "metadata": {},
   "outputs": [
    {
     "name": "stdout",
     "output_type": "stream",
     "text": [
      "Number of Ones = 474.0\n",
      "Accuracy: 0.990384615385\n"
     ]
    }
   ],
   "source": [
    "predict(test_x, test_y, parameters,activation)"
   ]
  },
  {
   "cell_type": "markdown",
   "metadata": {},
   "source": [
    "### In this model, it only took 20 seconds which is a small fraction of the 6.5 minutes of the earlier model. It also has a higher training accuracy at 99.99% and a higher testing accuracy at 99.03%. Training and testing accuracy are very close. We can safeley say that we are not overfitting. "
   ]
  }
 ],
 "metadata": {
  "kernelspec": {
   "display_name": "Python 3",
   "language": "python",
   "name": "python3"
  },
  "language_info": {
   "codemirror_mode": {
    "name": "ipython",
    "version": 3
   },
   "file_extension": ".py",
   "mimetype": "text/x-python",
   "name": "python",
   "nbconvert_exporter": "python",
   "pygments_lexer": "ipython3",
   "version": "3.6.1"
  }
 },
 "nbformat": 4,
 "nbformat_minor": 2
}
